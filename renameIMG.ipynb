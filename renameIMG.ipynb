{
 "cells": [
  {
   "cell_type": "code",
   "execution_count": 3,
   "metadata": {},
   "outputs": [],
   "source": [
    "import os\n",
    "os.getcwd()\n",
    "collection = \"C:\\\\Users\\\\noor\\\\Downloads\\\\archive\\\\imgs\\\\\"\n",
    "for i, filename in enumerate(os.listdir(collection)):\n",
    "    os.rename(\"C:\\\\Users\\\\noor\\\\Downloads\\\\archive\\\\imgs\\\\\" + filename, \"C:\\\\Users\\\\noor\\\\Downloads\\\\archive\\\\imgs\\\\\" + str(i) + \".jpg\")"
   ]
  },
  {
   "cell_type": "code",
   "execution_count": null,
   "metadata": {},
   "outputs": [],
   "source": []
  }
 ],
 "metadata": {
  "kernelspec": {
   "display_name": "Python 3",
   "language": "python",
   "name": "python3"
  },
  "language_info": {
   "codemirror_mode": {
    "name": "ipython",
    "version": 3
   },
   "file_extension": ".py",
   "mimetype": "text/x-python",
   "name": "python",
   "nbconvert_exporter": "python",
   "pygments_lexer": "ipython3",
   "version": "3.8.3"
  }
 },
 "nbformat": 4,
 "nbformat_minor": 4
}
